{
 "cells": [
  {
   "cell_type": "code",
   "execution_count": null,
   "metadata": {},
   "outputs": [],
   "source": [
    "import numpy as np\n",
    "import matplotlib.pyplot as plt"
   ]
  },
  {
   "cell_type": "markdown",
   "metadata": {},
   "source": [
    "# Question 1"
   ]
  },
  {
   "cell_type": "code",
   "execution_count": null,
   "metadata": {},
   "outputs": [],
   "source": [
    "def deriv(f, x0, h):\n",
    "    '''Numerically approximates the derivative of a function evaluated at x0 using 2 methods\n",
    "    \n",
    "    Parameters:\n",
    "    f: funtion to find derivative of\n",
    "    x0 <float>: point at which we evaluate the derivative\n",
    "    h <float>: step size\n",
    "    \n",
    "    Outputs:\n",
    "    d1 <float>: derivative of f evaluated at x0 using method 1 \n",
    "    d2 <float>: derivative of f evaluated at x0 using method 2'''\n",
    "    \n",
    "    #method 1\n",
    "    d1 = (f(x0 + h) - f(x0)) / h\n",
    "    \n",
    "    #method 2\n",
    "    d2 = (f(x0 + h) - f(x0-h)) / (2*h)\n",
    "    \n",
    "    return d1, d2"
   ]
  },
  {
   "cell_type": "code",
   "execution_count": null,
   "metadata": {},
   "outputs": [],
   "source": [
    "def f(x):\n",
    "    '''function we want to find the derivative of'''\n",
    "    return np.sin(x)"
   ]
  },
  {
   "cell_type": "code",
   "execution_count": null,
   "metadata": {},
   "outputs": [],
   "source": [
    "def actual_deriv(x0):\n",
    "    '''calculates the actual derivative of sin(x) at a given point x0'''\n",
    "    return np.cos(x0)"
   ]
  },
  {
   "cell_type": "code",
   "execution_count": null,
   "metadata": {},
   "outputs": [],
   "source": [
    "# creating range of small values for h\n",
    "hs = np.arange(0, 1, 0.001)\n",
    "\n",
    "# finding numerical derivatives of f at x0 = 0.1 using deriv function\n",
    "x0 = 0.1\n",
    "method1 = []\n",
    "method2 = []\n",
    "for h in hs:\n",
    "    d1, d2 = deriv(f, x0, h)\n",
    "    method1.append(d1)\n",
    "    method2.append(d2)\n",
    "    \n",
    "# finding analytical derivative    \n",
    "d_analytic = np.ones_like(method1)*actual_deriv(x0)\n",
    "\n",
    "# finding the error compared to analytical derivative for both methods\n",
    "error1 = (d_analytic - np.array(method1))/d_analytic\n",
    "error2 = (d_analytic - np.array(method2))/d_analytic"
   ]
  },
  {
   "cell_type": "code",
   "execution_count": null,
   "metadata": {
    "scrolled": false
   },
   "outputs": [],
   "source": [
    "plt.figure(figsize=(10,7))\n",
    "plt.plot(hs, error1, label='method 1', color='black')\n",
    "plt.plot(hs, error2, label='method 2', color='green')\n",
    "plt.title(r'Error compared to analytical derivative of $sin(x)$ at $x_0 = 0.1$', fontsize=20)\n",
    "plt.legend(fontsize=12)\n",
    "plt.xticks(fontsize=14)\n",
    "plt.yticks(fontsize=14)\n",
    "plt.grid(alpha=0.3)\n",
    "plt.xscale('log')\n",
    "plt.yscale('log')\n",
    "plt.xlabel('h', fontsize=20)\n",
    "plt.ylabel('fractional error', fontsize=20)\n",
    "plt.savefig('derivatives.pdf')\n",
    "plt.show()"
   ]
  },
  {
   "cell_type": "markdown",
   "metadata": {},
   "source": [
    "# Question 2"
   ]
  },
  {
   "cell_type": "code",
   "execution_count": null,
   "metadata": {},
   "outputs": [],
   "source": [
    "def get_z(c):\n",
    "    '''Does the iteration and finds the size of the vectors z in the x-y plane\n",
    "    \n",
    "    Parameters:\n",
    "    c - complex number x + iy\n",
    "    \n",
    "    Returns:\n",
    "    distances - list of distances for each zi, None if sequence diverges\n",
    "    i - iterations until it diverges, 600 if it converges'''\n",
    "    \n",
    "    i = 0\n",
    "    distances = []\n",
    "    while i < STOP:\n",
    "        if i == 0:\n",
    "            z = c\n",
    "            a, b = z.real, z.imag\n",
    "            distances.append(np.sqrt(a**2 + b**2))\n",
    "            i += 1\n",
    "        else:\n",
    "            z = z*z + c                                    # finding the new z\n",
    "            a, b = z.real, z.imag\n",
    "            try:                                           # if the set is bounded\n",
    "                distances.append(np.sqrt(a**2 + b**2))\n",
    "                i += 1\n",
    "            except OverflowError:                          # if the set diverges\n",
    "                return None, i        \n",
    "    return distances, 10000"
   ]
  },
  {
   "cell_type": "code",
   "execution_count": null,
   "metadata": {},
   "outputs": [],
   "source": [
    "# defining maximum number of iterations\n",
    "STOP = 10000\n",
    "\n",
    "# creating values of x and y to iterate through\n",
    "xs = np.linspace(-2, 2, 1000)\n",
    "ys = np.linspace(-2, 2, 1000)\n",
    "\n",
    "# creating lists for bound and infinite points and array for tracking iterations before divergence\n",
    "bound_x, bound_y = [], []\n",
    "infinite_x, infinite_y = [], []\n",
    "iterations = np.zeros((len(xs), len(ys)))\n",
    "\n",
    "# iterating through possible complex numbers c and finding the sizes of those vectors using get_z function\n",
    "for j,x in enumerate(xs):\n",
    "    for k,y in enumerate(ys):\n",
    "        c = complex(x, y)\n",
    "        dists, i = get_z(c)\n",
    "        if dists:\n",
    "            bound_x.append(x)\n",
    "            bound_y.append(y)\n",
    "            iterations[j,k] = i\n",
    "        else:\n",
    "            infinite_x.append(x)\n",
    "            infinite_y.append(y)\n",
    "            iterations[j,k] = i"
   ]
  },
  {
   "cell_type": "code",
   "execution_count": null,
   "metadata": {},
   "outputs": [],
   "source": [
    "plt.figure(figsize=(10,7))\n",
    "plt.plot(bound_x, bound_y, '.', color='lavenderblush', label='bounded')\n",
    "plt.plot(infinite_x, infinite_y, '.', color='firebrick', label='divergent')\n",
    "plt.legend(fontsize=16, loc='best')\n",
    "plt.title('Mandelbrot Set', fontsize=20)\n",
    "plt.xlim(-2, 1.5)\n",
    "plt.savefig('duo.png')\n",
    "plt.show()"
   ]
  },
  {
   "cell_type": "code",
   "execution_count": null,
   "metadata": {},
   "outputs": [],
   "source": [
    "X, Y = np.meshgrid(xs, ys)\n",
    "\n",
    "plt.figure(figsize=(10,7))\n",
    "plt.contourf(Y, X, iterations, cmap='plasma', levels=100)\n",
    "plt.title('Number of Iterations before Divergence', fontsize=20)\n",
    "c = plt.colorbar()\n",
    "c.ax.tick_params(labelsize=12)\n",
    "plt.xlim(-2, 1.5)\n",
    "plt.axis('off')\n",
    "plt.savefig('iterations.png')\n",
    "plt.show()"
   ]
  },
  {
   "cell_type": "markdown",
   "metadata": {},
   "source": [
    "# Question 3"
   ]
  },
  {
   "cell_type": "code",
   "execution_count": null,
   "metadata": {},
   "outputs": [],
   "source": [
    "from scipy.integrate import odeint"
   ]
  },
  {
   "cell_type": "code",
   "execution_count": null,
   "metadata": {},
   "outputs": [],
   "source": [
    "def SIR_model(y, t, gamma, beta):\n",
    "    S, I, R = y\n",
    "    dydt = [-beta*S*I/N, beta*S*I/N - gamma*I, gamma*I]\n",
    "    return dydt\n",
    "    \n",
    "y0 = [999, 1, 0]\n",
    "t = np.linspace(0,200,1000)\n",
    "N = 1000"
   ]
  },
  {
   "cell_type": "code",
   "execution_count": null,
   "metadata": {},
   "outputs": [],
   "source": [
    "fig, ax = plt.subplots(2, 2, dpi=100, figsize=(10, 7))\n",
    "\n",
    "# first\n",
    "gamma = 1\n",
    "beta = 1\n",
    "sol = odeint(SIR_model, y0, t, args=(gamma, beta))\n",
    "\n",
    "ax[0,0].plot(t, sol[:, 0], 'b', label='S(t)')\n",
    "ax[0,0].plot(t, sol[:, 1], 'g', label='I(t)')\n",
    "ax[0,0].plot(t, sol[:, 2], 'r', label='R(t)')\n",
    "ax[0,0].legend(loc='best', fontsize=10)\n",
    "ax[0,0].set_xlabel('t', fontsize=12)\n",
    "ax[0,0].set_ylabel('Number of people', fontsize=12)\n",
    "ax[0,0].set_title(r'$\\gamma$ = {}, $\\beta$ = {}'.format(gamma, beta), fontsize=16)\n",
    "ax[0,0].grid(alpha=0.3)\n",
    "\n",
    "# second\n",
    "gamma = 0.01\n",
    "beta = 1\n",
    "sol = odeint(SIR_model, y0, t, args=(gamma, beta))\n",
    "\n",
    "ax[0,1].plot(t, sol[:, 0], 'b', label='S(t)')\n",
    "ax[0,1].plot(t, sol[:, 1], 'g', label='I(t)')\n",
    "ax[0,1].plot(t, sol[:, 2], 'r', label='R(t)')\n",
    "ax[0,1].legend(loc='best', fontsize=10)\n",
    "ax[0,1].set_xlabel('t', fontsize=12)\n",
    "ax[0,1].set_ylabel('Number of people', fontsize=12)\n",
    "ax[0,1].set_title(r'$\\gamma$ = {}, $\\beta$ = {}'.format(gamma, beta), fontsize=16)\n",
    "ax[0,1].grid(alpha=0.3)\n",
    "\n",
    "# third\n",
    "gamma = 0.01\n",
    "beta = 0.1\n",
    "sol = odeint(SIR_model, y0, t, args=(gamma, beta))\n",
    "\n",
    "ax[1,0].plot(t, sol[:, 0], 'b', label='S(t)')\n",
    "ax[1,0].plot(t, sol[:, 1], 'g', label='I(t)')\n",
    "ax[1,0].plot(t, sol[:, 2], 'r', label='R(t)')\n",
    "ax[1,0].legend(loc='best', fontsize=10)\n",
    "ax[1,0].set_xlabel('t', fontsize=12)\n",
    "ax[1,0].set_ylabel('Number of people', fontsize=12)\n",
    "ax[1,0].set_title(r'$\\gamma$ = {}, $\\beta$ = {}'.format(gamma, beta), fontsize=16)\n",
    "ax[1,0].grid(alpha=0.3)\n",
    "\n",
    "# fourth\n",
    "gamma = 0.1\n",
    "beta = 0.2\n",
    "sol = odeint(SIR_model, y0, t, args=(gamma, beta))\n",
    "\n",
    "ax[1,1].plot(t, sol[:, 0], 'b', label='S(t)')\n",
    "ax[1,1].plot(t, sol[:, 1], 'g', label='I(t)')\n",
    "ax[1,1].plot(t, sol[:, 2], 'r', label='R(t)')\n",
    "ax[1,1].legend(loc='best', fontsize=10)\n",
    "ax[1,1].set_xlabel('t', fontsize=12)\n",
    "ax[1,1].set_ylabel('Number of people', fontsize=12)\n",
    "ax[1,1].set_title(r'$\\gamma$ = {}, $\\beta$ = {}'.format(gamma, beta), fontsize=16)\n",
    "ax[1,1].grid(alpha=0.3)\n",
    "\n",
    "plt.tight_layout()\n",
    "plt.savefig('SIR.pdf')\n",
    "plt.show()"
   ]
  },
  {
   "cell_type": "code",
   "execution_count": null,
   "metadata": {},
   "outputs": [],
   "source": []
  }
 ],
 "metadata": {
  "kernelspec": {
   "display_name": "Python 3",
   "language": "python",
   "name": "python3"
  },
  "language_info": {
   "codemirror_mode": {
    "name": "ipython",
    "version": 3
   },
   "file_extension": ".py",
   "mimetype": "text/x-python",
   "name": "python",
   "nbconvert_exporter": "python",
   "pygments_lexer": "ipython3",
   "version": "3.6.4"
  }
 },
 "nbformat": 4,
 "nbformat_minor": 2
}
